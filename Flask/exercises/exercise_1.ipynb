{
 "cells": [
  {
   "cell_type": "markdown",
   "id": "cad23c8c",
   "metadata": {},
   "source": [
    "# **Exercises: Interacting with REST APIs Using Python**"
   ]
  },
  {
   "cell_type": "markdown",
   "id": "fdc3d062",
   "metadata": {},
   "source": [
    "### **Exercise 1: Fetch Data**\n",
    "1. Use the **JSONPlaceholder API** to fetch a list of posts.\n",
    "- API Endpoint: `https://jsonplaceholder.typicode.com/posts`\n",
    "- Print the titles of the first 10 posts."
   ]
  },
  {
   "cell_type": "code",
   "execution_count": null,
   "id": "f40eda86",
   "metadata": {},
   "outputs": [],
   "source": [
    "import requests\n",
    "\n",
    "# Exercise 1: Fetch Data\n",
    "responce = requests.get(url=\"https://jsonplaceholder.typicode.com/posts\")\n",
    "\n",
    "if responce.status_code == 200:\n",
    "    display(\"Success: \", responce.json())\n",
    "else:\n",
    "    display(\"Failed:\", responce.status_code)\n",
    " "
   ]
  },
  {
   "cell_type": "markdown",
   "id": "d0561767",
   "metadata": {},
   "source": [
    "### **Exercise 2: Filter Data**\n",
    "1. Fetch all posts from the API and filter posts created by the user with `userId = 5`.\n",
    "- API Endpoint: `https://jsonplaceholder.typicode.com/posts`\n",
    "- Hint: Use query parameters."
   ]
  },
  {
   "cell_type": "code",
   "execution_count": null,
   "id": "fc48e634",
   "metadata": {},
   "outputs": [],
   "source": [
    "import requests\n",
    "# Exercise 2: Filter Data\n",
    "responce = requests.get(url=\"https://jsonplaceholder.typicode.com/posts\")\n",
    "\n",
    "if responce.status_code == 200:\n",
    "    display(\"Success:\", responce.json())\n",
    "else:\n",
    "    display(\"Failed:\", responce.status_code)\n",
    "\n",
    "if responce.status_code == 200:\n",
    "    posts = responce.json()\n",
    "    result = [post for post in posts if post['userId']==5]\n",
    "    display(\"result for userId = 5:\", result)"
   ]
  },
  {
   "cell_type": "markdown",
   "id": "87248ab4",
   "metadata": {},
   "source": [
    "### **Exercise 3: Create a New Post**\n",
    "1. Create a new post using a `POST` request.\n",
    "- API Endpoint: `https://jsonplaceholder.typicode.com/posts`\n",
    "- Request body:\n",
    "```json\n",
    "{\n",
    "    \"title\": \"My Exercise Post\",\n",
    "    \"body\": \"This post was created as part of an exercise.\",\n",
    "    \"userId\": 1\n",
    "}\n",
    "```\n",
    "- Print the response JSON to verify that the post was created successfully."
   ]
  },
  {
   "cell_type": "code",
   "execution_count": 4,
   "id": "85cd74a8",
   "metadata": {},
   "outputs": [
    {
     "data": {
      "text/plain": [
       "'Resource created:'"
      ]
     },
     "metadata": {},
     "output_type": "display_data"
    },
    {
     "data": {
      "text/plain": [
       "{'title': 'My Exercise Post',\n",
       " 'body': 'This post was created as part of an exercise.',\n",
       " 'userId': 1,\n",
       " 'id': 101}"
      ]
     },
     "metadata": {},
     "output_type": "display_data"
    }
   ],
   "source": [
    "# Exercise 3: Create a New Post\n",
    "import requests\n",
    "\n",
    "url = \"https://jsonplaceholder.typicode.com/posts\"\n",
    "payload = {\"title\": \"My Exercise Post\",\n",
    "            \"body\": \"This post was created as part of an exercise.\",\n",
    "            \"userId\": 1}\n",
    "responce = requests.post(url=url, json=payload)\n",
    "\n",
    "if responce.status_code == 201:\n",
    "    display(\"Resource created:\", responce.json())\n",
    "else:\n",
    "    display(\"Failed to created responce:\", responce.status_code)"
   ]
  },
  {
   "cell_type": "markdown",
   "id": "fa70260b",
   "metadata": {},
   "source": [
    "### **Exercise 4: Update a Post**\n",
    "1. Update the title of the post with `id = 1` to `\"Updated Exercise Title\"`.\n",
    "- API Endpoint: `https://jsonplaceholder.typicode.com/posts/1`\n",
    "- Use a `PUT` request and include the updated `title`."
   ]
  },
  {
   "cell_type": "code",
   "execution_count": null,
   "id": "95e9db80",
   "metadata": {},
   "outputs": [],
   "source": [
    "# Exercise 4: Update a Post\n",
    "import requests\n",
    "url = \"https://jsonplaceholder.typicode.com/posts/1\"\n",
    "payload = {\"id\": 1, \"title\": \"Updated Exercise Title\"}\n",
    "\n",
    "responce = requests.put(url=url, json=payload)\n",
    "\n",
    "if responce.status_code == 200:\n",
    "    display(\"Resource Update:\", responce.json())\n",
    "else:\n",
    "    display(\"Failed to update resource:\", responce.status_code)"
   ]
  },
  {
   "cell_type": "markdown",
   "id": "ee9e220d",
   "metadata": {},
   "source": [
    "### **Exercise 5: Delete a Post**\n",
    "1. Delete the post with `id = 1`.\n",
    "- API Endpoint: `https://jsonplaceholder.typicode.com/posts/1`\n",
    "- Print a success message if the deletion is successful."
   ]
  },
  {
   "cell_type": "code",
   "execution_count": 8,
   "id": "225bbedf",
   "metadata": {},
   "outputs": [
    {
     "data": {
      "text/plain": [
       "'Resource deleted successfully'"
      ]
     },
     "metadata": {},
     "output_type": "display_data"
    }
   ],
   "source": [
    "# Exercise 5: Delete a Post\n",
    "import requests\n",
    "url=\"https://jsonplaceholder.typicode.com/posts/1\"\n",
    "responce = requests.delete(url=url)\n",
    "\n",
    "if responce.status_code == 200:\n",
    "    display(\"Resource deleted successfully\")\n",
    "else:\n",
    "    display(\"Failed to delete resource:\", responce.status_code)"
   ]
  },
  {
   "cell_type": "markdown",
   "id": "0fc7f90b",
   "metadata": {},
   "source": [
    "### **Exercise 6: Error Handling**\n",
    "1. Write a function that fetches a single post by its ID.\n",
    "- If the post does not exist (e.g., `id = 9999`), print `\"Post not found\"`."
   ]
  },
  {
   "cell_type": "code",
   "execution_count": null,
   "id": "54a41b5f",
   "metadata": {},
   "outputs": [],
   "source": [
    "# Exercise 6: Error Handling\n",
    " "
   ]
  },
  {
   "cell_type": "markdown",
   "id": "5fb43538",
   "metadata": {},
   "source": [
    "### **Exercise 7: Advanced Interaction**\n",
    "1. Write a Python script that:\n",
    "- Fetches all users from `https://jsonplaceholder.typicode.com/users`.\n",
    "- For each user, fetches all their posts and prints the user’s name along with the titles of their posts."
   ]
  },
  {
   "cell_type": "code",
   "execution_count": null,
   "id": "0567d773",
   "metadata": {},
   "outputs": [],
   "source": [
    "# Exercise 7: Advanced Interaction\n",
    " "
   ]
  }
 ],
 "metadata": {
  "kernelspec": {
   "display_name": "Python 3",
   "language": "python",
   "name": "python3"
  },
  "language_info": {
   "codemirror_mode": {
    "name": "ipython",
    "version": 3
   },
   "file_extension": ".py",
   "mimetype": "text/x-python",
   "name": "python",
   "nbconvert_exporter": "python",
   "pygments_lexer": "ipython3",
   "version": "3.13.0"
  }
 },
 "nbformat": 4,
 "nbformat_minor": 5
}
