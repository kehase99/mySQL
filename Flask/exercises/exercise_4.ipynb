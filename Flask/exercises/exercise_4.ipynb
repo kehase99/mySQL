{
 "cells": [
  {
   "cell_type": "markdown",
   "id": "ae321b51",
   "metadata": {},
   "source": [
    "# **Exercises: Python Flask-Migrate**\n",
    "\n",
    "This set of exercises will guide you through setting up and using Flask-Migrate to manage database migrations."
   ]
  },
  {
   "cell_type": "markdown",
   "id": "60e20f30",
   "metadata": {},
   "source": [
    "### **Exercise 1: Initialize Flask-Migrate**\n",
    "1. Set up **Flask-SQLAlchemy** and **Flask-Migrate** in your project.\n",
    "2. Configure your app to use a SQLite database (`sqlite:///site.db`).\n",
    "3. Initialize Flask-Migrate to enable database migrations."
   ]
  },
  {
   "cell_type": "markdown",
   "id": "3899954e",
   "metadata": {},
   "source": [
    "### **Exercise 2: Create an Initial Migration**\n",
    "1. Define a `User` model with the following fields:\n",
    "   - `id`: Integer (Primary Key)\n",
    "   - `username`: String (Unique, Required)\n",
    "   - `email`: String (Unique, Required)\n",
    "2. Generate the initial migration script.\n",
    "3. Apply the migration to create the database schema."
   ]
  },
  {
   "cell_type": "markdown",
   "id": "71cb2fe0",
   "metadata": {},
   "source": [
    "### **Exercise 3: Update the Schema**\n",
    "1. Add a new `Post` model with the following fields:\n",
    "   - `id`: Integer (Primary Key)\n",
    "   - `title`: String (Required)\n",
    "   - `content`: Text (Required)\n",
    "   - `user_id`: ForeignKey referencing the `User` table.\n",
    "2. Generate a new migration script to reflect this change.\n",
    "3. Apply the migration."
   ]
  },
  {
   "cell_type": "markdown",
   "id": "2bb0d2c1",
   "metadata": {},
   "source": [
    "### **Exercise 4: Rollback Migrations**\n",
    "1. Roll back the database to a previous state (before the `Post` model was added).\n",
    "2. Verify the schema to ensure that the `posts` table no longer exists."
   ]
  },
  {
   "cell_type": "markdown",
   "id": "8b9d3702",
   "metadata": {},
   "source": [
    "### **Exercise 5: Reapply Migrations**\n",
    "1. Reapply all migrations to ensure the database is in the latest state."
   ]
  },
  {
   "cell_type": "markdown",
   "id": "1d0f0c01",
   "metadata": {},
   "source": [
    "### **Exercise 6: Adding Seed Data**\n",
    "1. Add a route `/seed` that inserts the following data into the database:\n",
    "   - Users: Alice, Bob, Charlie\n",
    "   - Posts: Add at least one post for each user.\n",
    "2. Verify the data using a route `/posts` that lists all posts."
   ]
  },
  {
   "cell_type": "markdown",
   "id": "53f33f32",
   "metadata": {},
   "source": [
    "### **Exercise 7: Drop All Tables**\n",
    "1. Drop all tables from the database using Flask-Migrate.\n",
    "2. Reinitialize the database schema."
   ]
  }
 ],
 "metadata": {
  "language_info": {
   "name": "python"
  }
 },
 "nbformat": 4,
 "nbformat_minor": 5
}
