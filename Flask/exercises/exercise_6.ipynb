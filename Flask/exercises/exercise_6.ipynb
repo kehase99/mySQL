{
 "cells": [
  {
   "cell_type": "markdown",
   "id": "d746017c",
   "metadata": {},
   "source": [
    "# **Exercises: Flask Authentication**\n",
    "\n",
    "This set of exercises will guide you through implementing authentication in Flask using Flask-Login and Flask-WTF."
   ]
  },
  {
   "cell_type": "markdown",
   "id": "63263010",
   "metadata": {},
   "source": [
    "### **Exercise 1: Setup Flask-Login**\n",
    "1. Install **Flask-Login**:\n",
    "   ```bash\n",
    "   pip install flask-login flask-wtf flask-bcrypt\n",
    "   ```\n",
    "2. Initialize **Flask-Login** in `__init__.py`.\n",
    "3. Create a `User` model that implements `Flask-Login` methods."
   ]
  },
  {
   "cell_type": "markdown",
   "id": "831d5e4c",
   "metadata": {},
   "source": [
    "### **Exercise 2: Create a Registration Page**\n",
    "1. Create a route `/register` that renders `register.html`.\n",
    "2. Use Flask-WTF to create a `RegistrationForm` with:\n",
    "   - `username`: TextField\n",
    "   - `email`: EmailField\n",
    "   - `password`: PasswordField\n",
    "   - `confirm_password`: PasswordField (match `password`)\n",
    "3. Hash passwords using `Flask-Bcrypt` before saving to the database."
   ]
  },
  {
   "cell_type": "markdown",
   "id": "de85dbde",
   "metadata": {},
   "source": [
    "### **Exercise 3: Create a Login Page**\n",
    "1. Create a route `/login` that renders `login.html`.\n",
    "2. Use Flask-WTF to create a `LoginForm` with:\n",
    "   - `email`: EmailField\n",
    "   - `password`: PasswordField\n",
    "3. Authenticate users using `Flask-Login`."
   ]
  },
  {
   "cell_type": "markdown",
   "id": "3d3629b5",
   "metadata": {},
   "source": [
    "### **Exercise 4: Protect Routes**\n",
    "1. Create a `/home` route that renders `home.html`.\n",
    "2. Protect the route with `@login_required`."
   ]
  },
  {
   "cell_type": "markdown",
   "id": "a6719932",
   "metadata": {},
   "source": [
    "### **Exercise 5: Logout**\n",
    "1. Add a `/logout` route to log users out.\n",
    "2. Redirect them to the `/login` page."
   ]
  }
 ],
 "metadata": {
  "language_info": {
   "name": "python"
  }
 },
 "nbformat": 4,
 "nbformat_minor": 5
}
