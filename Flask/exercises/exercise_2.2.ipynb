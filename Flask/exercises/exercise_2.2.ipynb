{
 "cells": [
  {
   "cell_type": "markdown",
   "id": "b29240db",
   "metadata": {},
   "source": [
    "### Exercise 1: Import the required modules for working with SQLAlchemy and  Create a MySQL database connection using SQLAlchem?\n"
   ]
  },
  {
   "cell_type": "code",
   "execution_count": null,
   "id": "441c2d59",
   "metadata": {},
   "outputs": [],
   "source": [
    "\n"
   ]
  },
  {
   "cell_type": "markdown",
   "id": "0df42299",
   "metadata": {},
   "source": [
    "## Exercise 2: Create a Class-Based Model\n",
    "\n",
    "1. Create a `Book` class that inherits from `Base`.\n",
    "2. Define the following fields:\n",
    "\n",
    "| Field Name | Data Type | Constraints       | Description         |\n",
    "|------------|-----------|-------------------|---------------------|\n",
    "| `id`       | Integer   | Primary Key       | Unique identifier   |\n",
    "| `title`    | String    | Not nullable      | Title of the book   |\n",
    "| `author`   | String    | Not nullable      | Author of the book  |\n",
    "| `price`    | Float     | None              | Price of the book   |\n",
    "\n",
    "3. Use `__tablename__` to set the table name as \"books\".\n",
    "4. Write code to create the database table for this model.\n"
   ]
  },
  {
   "cell_type": "code",
   "execution_count": null,
   "id": "7c77bcdd",
   "metadata": {},
   "outputs": [],
   "source": [
    " \n"
   ]
  },
  {
   "cell_type": "markdown",
   "id": "8fbcd5ed",
   "metadata": {},
   "source": [
    "## Exercise 3: Add a Relationship Between Models\n",
    "\n",
    "1. Create a `Library` class with the following fields:\n",
    "\n",
    "| Field Name | Data Type | Constraints       | Description               |\n",
    "|------------|-----------|-------------------|---------------------------|\n",
    "| `id`       | Integer   | Primary Key       | Unique identifier         |\n",
    "| `name`     | String    | Not nullable      | Name of the library       |\n",
    "| `location` | String    | Not nullable      | Location of the library   |\n",
    "\n",
    "2. Add a one-to-many relationship between `Library` and `Book`.\n",
    "\n",
    "| Relationship | Description                |\n",
    "|--------------|----------------------------|\n",
    "| `Library`    | A library can have many books. |\n",
    "| `Book`       | A book belongs to one library. |\n",
    "\n",
    "   - Use the `relationship` function to define this link.\n",
    "\n",
    "3. Write code to create both tables in the database.\n"
   ]
  },
  {
   "cell_type": "code",
   "execution_count": null,
   "id": "2183dbb5",
   "metadata": {},
   "outputs": [],
   "source": []
  },
  {
   "cell_type": "markdown",
   "id": "623b4f01",
   "metadata": {},
   "source": [
    "## Exercise 4: Insert Data Into Tables\n",
    "\n",
    "1. Insert the following libraries into the database:\n",
    "\n",
    "| Library ID | Name             | Location     |\n",
    "|------------|------------------|--------------|\n",
    "| 1          | Central Library  | Downtown     |\n",
    "| 2          | East Side Library| East End     |\n",
    "\n",
    "2. Insert the following books into the database:\n",
    "\n",
    "| Book ID | Title                      | Author               | Price  | Library Name      |\n",
    "|---------|----------------------------|----------------------|--------|-------------------|\n",
    "| 1       | The Great Gatsby           | F. Scott Fitzgerald  | 10.99  | Central Library   |\n",
    "| 2       | 1984                       | George Orwell        | 8.99   | East Side Library |\n",
    "| 3       | To Kill a Mockingbird      | Harper Lee           | 12.99  | Central Library   |\n"
   ]
  },
  {
   "cell_type": "code",
   "execution_count": null,
   "id": "a1d321cc",
   "metadata": {},
   "outputs": [],
   "source": []
  },
  {
   "cell_type": "markdown",
   "id": "64aa547f",
   "metadata": {},
   "source": [
    "\n",
    "## Exercise 5: Query the Database\n",
    "1. Write a query to fetch all books and display their title, author, price, and the library name.\n",
    "2. Write a query to fetch all libraries and display their name and the number of books they have.\n"
   ]
  },
  {
   "cell_type": "code",
   "execution_count": null,
   "id": "54854466",
   "metadata": {},
   "outputs": [],
   "source": [
    " \n"
   ]
  },
  {
   "cell_type": "markdown",
   "id": "5ffdbf35",
   "metadata": {},
   "source": [
    "\n",
    "## Exercise 6: Complex Query - Filtering and Aggregations\n",
    "\n",
    "1. Write a query to fetch all libraries with more than one book.\n",
    "2. Write a query to find the library with the highest total value of books.\n",
    "3. Write a query to calculate the average price of books in each library.\n"
   ]
  },
  {
   "cell_type": "code",
   "execution_count": null,
   "id": "45fa1f78",
   "metadata": {},
   "outputs": [],
   "source": []
  },
  {
   "cell_type": "markdown",
   "id": "dc3ba681",
   "metadata": {},
   "source": [
    "\n",
    "## Exercise 7: Updating and Deleting Records\n",
    "\n",
    "1. Write code to update the price of all books authored by \"George Orwell\" to $9.99.\n",
    "2. Write code to delete all books in a library named \"East Side Library\".\n",
    "3. Write code to delete a library if it has no books.\n"
   ]
  },
  {
   "cell_type": "code",
   "execution_count": null,
   "id": "e6e912db",
   "metadata": {},
   "outputs": [],
   "source": []
  },
  {
   "cell_type": "markdown",
   "id": "674a4470",
   "metadata": {},
   "source": [
    "\n",
    "## Exercise 8: Subqueries and Nested Queries\n",
    "\n",
    "1. Write a query to find the libraries that have books priced higher than the average price of all books.\n",
    "2. Write a query to list all books along with a flag indicating whether their price is above or below the average price of all books.\n",
    "3. Write a query to find the most expensive book in each library.\n"
   ]
  },
  {
   "cell_type": "code",
   "execution_count": null,
   "id": "ebdb4df8",
   "metadata": {},
   "outputs": [],
   "source": []
  },
  {
   "cell_type": "markdown",
   "id": "abffaaa0",
   "metadata": {},
   "source": [
    "\n",
    "## Exercise 9: Advanced Relationships\n",
    "\n",
    "1. Write a query to list all libraries with their books and their total value.\n",
    "2. Write a query to fetch libraries that do not have any books.\n",
    "3. Write a query to find authors who have written books in more than one library.\n"
   ]
  },
  {
   "cell_type": "code",
   "execution_count": null,
   "id": "7a00d52c",
   "metadata": {},
   "outputs": [],
   "source": [
    " \n"
   ]
  }
 ],
 "metadata": {
  "language_info": {
   "name": "python"
  }
 },
 "nbformat": 4,
 "nbformat_minor": 5
}
