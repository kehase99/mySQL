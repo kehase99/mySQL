{
 "cells": [
  {
   "cell_type": "markdown",
   "id": "a23485f8",
   "metadata": {},
   "source": [
    "# **Exercises: Python Flask Templating**\n",
    "\n",
    "This set of exercises will guide you through dynamic rendering, template inheritance, and more using Flask Templating."
   ]
  },
  {
   "cell_type": "markdown",
   "id": "99654f26",
   "metadata": {},
   "source": [
    "### **Exercise 1: Rendering Dynamic Data**\n",
    "1. Create a Flask route that renders the `home.html` template.\n",
    "2. Pass the following data to the template:\n",
    "   ```python\n",
    "   data = {\"title\": \"Home Page\", \"welcome_message\": \"Welcome to Flask Templating!\"}\n",
    "   ```\n",
    "3. In the `home.html` template, display the `title` and `welcome_message` dynamically."
   ]
  },
  {
   "cell_type": "markdown",
   "id": "690589a9",
   "metadata": {},
   "source": [
    "### **Exercise 2: Using Template Inheritance**\n",
    "1. Create a `base.html` template with:\n",
    "   - A `<header>` with a navigation bar.\n",
    "   - A `<main>` block for child templates to extend.\n",
    "   - A `<footer>` with a copyright notice.\n",
    "2. Modify `home.html` to extend `base.html` and use the `<main>` block to display the `welcome_message`."
   ]
  },
  {
   "cell_type": "markdown",
   "id": "966d5aec",
   "metadata": {},
   "source": [
    "### **Exercise 3: Rendering a List with Loops**\n",
    "1. Create a route `/users` in `routes.py` that passes the following list to the `users.html` template:\n",
    "   ```python\n",
    "   users = [\n",
    "       {\"name\": \"Alice\", \"email\": \"alice@example.com\"},\n",
    "       {\"name\": \"Bob\", \"email\": \"bob@example.com\"},\n",
    "       {\"name\": \"Charlie\", \"email\": \"charlie@example.com\"}\n",
    "   ]\n",
    "   ```\n",
    "2. In the `users.html` template, display the list in a table."
   ]
  },
  {
   "cell_type": "markdown",
   "id": "f4265ca0",
   "metadata": {},
   "source": [
    "### **Exercise 4: Adding Conditionals**\n",
    "1. Update the `/users` route to include a message when the list of users is empty.\n",
    "2. Modify `users.html` to display:\n",
    "   - \"No users found\" if the list is empty.\n",
    "   - The table if users are present."
   ]
  },
  {
   "cell_type": "markdown",
   "id": "3c84f19f",
   "metadata": {},
   "source": [
    "### **Exercise 5: Adding Static Files**\n",
    "1. Create a `styles.css` file in the `static/css` folder.\n",
    "2. Add basic styling for the `<header>`, `<main>`, and `<footer>` sections.\n",
    "3. Include the CSS file in `base.html`."
   ]
  },
  {
   "cell_type": "markdown",
   "id": "f9e99fd5",
   "metadata": {},
   "source": [
    "### **Exercise 6: Passing Form Data**\n",
    "1. Create an `/about` route in `routes.py` that renders `about.html`.\n",
    "2. Add a form to `about.html` where users can submit their name.\n",
    "3. On form submission, display the submitted name below the form."
   ]
  }
 ],
 "metadata": {
  "language_info": {
   "name": "python"
  }
 },
 "nbformat": 4,
 "nbformat_minor": 5
}
